{
 "cells": [
  {
   "cell_type": "code",
   "execution_count": 1,
   "metadata": {},
   "outputs": [],
   "source": [
    "import numpy as np\n",
    "import pandas as pd\n",
    "import itertools\n",
    "import collections\n",
    "import re\n",
    "import operator\n",
    "import os\n",
    "import ast\n",
    "from multiprefixspan import *\n",
    "import time"
   ]
  },
  {
   "cell_type": "markdown",
   "metadata": {},
   "source": [
    "# Small Data: event with single item executed by a function for signle events"
   ]
  },
  {
   "cell_type": "code",
   "execution_count": 2,
   "metadata": {},
   "outputs": [],
   "source": [
    "db = [\n",
    "    [0, 1, 2, 3, 4],\n",
    "    [1, 1, 1, 3, 4],\n",
    "    [2, 1, 2, 2, 0],\n",
    "    [1, 1, 1, 2, 2],\n",
    "]"
   ]
  },
  {
   "cell_type": "code",
   "execution_count": 3,
   "metadata": {},
   "outputs": [],
   "source": [
    "pre_object = prefixspan_one_item_one_event(db, 2)"
   ]
  },
  {
   "cell_type": "code",
   "execution_count": 4,
   "metadata": {},
   "outputs": [
    {
     "name": "stdout",
     "output_type": "stream",
     "text": [
      "--- 0.0 seconds ---\n"
     ]
    }
   ],
   "source": [
    "start_time = time.time()\n",
    "pre_object.exect()\n",
    "print(\"--- %s seconds ---\" % (time.time() - start_time))"
   ]
  },
  {
   "cell_type": "code",
   "execution_count": 5,
   "metadata": {},
   "outputs": [
    {
     "data": {
      "text/plain": [
       "{'[0]': 2,\n",
       " '[1]': 4,\n",
       " '[1, 2]': 3,\n",
       " '[1, 2, 2]': 2,\n",
       " '[1, 3]': 2,\n",
       " '[1, 3, 4]': 2,\n",
       " '[1, 4]': 2,\n",
       " '[1, 1]': 2,\n",
       " '[1, 1, 1]': 2,\n",
       " '[2]': 3,\n",
       " '[2, 2]': 2,\n",
       " '[3]': 2,\n",
       " '[3, 4]': 2,\n",
       " '[4]': 2}"
      ]
     },
     "execution_count": 5,
     "metadata": {},
     "output_type": "execute_result"
    }
   ],
   "source": [
    "pre_object.found_patterns"
   ]
  },
  {
   "cell_type": "markdown",
   "metadata": {},
   "source": [
    "# Small Data: event with single item executed by a function for multiple events"
   ]
  },
  {
   "cell_type": "code",
   "execution_count": 6,
   "metadata": {},
   "outputs": [],
   "source": [
    "db = [\n",
    "    [{0}, {1}, {2}, {3}, {4}],\n",
    "    [{1}, {1}, {1}, {3}, {4}],\n",
    "    [{2}, {1}, {2}, {2}, {0}],\n",
    "    [{1}, {1}, {1}, {2}, {2}],\n",
    "]"
   ]
  },
  {
   "cell_type": "code",
   "execution_count": 7,
   "metadata": {},
   "outputs": [],
   "source": [
    "prefix_object = prefixspan_multiple_items_one_event(db, 2)"
   ]
  },
  {
   "cell_type": "code",
   "execution_count": 8,
   "metadata": {},
   "outputs": [],
   "source": [
    "prefix_object.exect()"
   ]
  },
  {
   "cell_type": "code",
   "execution_count": 9,
   "metadata": {},
   "outputs": [
    {
     "data": {
      "text/plain": [
       "[([{3}], 2),\n",
       " ([{3}, {4}], 2),\n",
       " ([{1}], 4),\n",
       " ([{1}, {3}], 2),\n",
       " ([{1}, {3}, {4}], 2),\n",
       " ([{1}, {2}], 3),\n",
       " ([{1}, {2}, {2}], 2),\n",
       " ([{1}, {4}], 2),\n",
       " ([{1}, {1}], 2),\n",
       " ([{1}, {1}, {1}], 2),\n",
       " ([{2}], 3),\n",
       " ([{2}, {2}], 2),\n",
       " ([{4}], 2),\n",
       " ([{0}], 2)]"
      ]
     },
     "execution_count": 9,
     "metadata": {},
     "output_type": "execute_result"
    }
   ],
   "source": [
    "prefix_object.found_patterns"
   ]
  },
  {
   "cell_type": "markdown",
   "metadata": {},
   "source": [
    "# Small Data: event with multiple events executed by a function for a multiple events"
   ]
  },
  {
   "cell_type": "code",
   "execution_count": 10,
   "metadata": {},
   "outputs": [],
   "source": [
    "dat = [[{'a'}, {'a', 'b', 'c'}, {'a', 'c'}, {'d'}, {'c', 'f'}],\n",
    "      [{'a', 'd'}, {'c'}, {'b', 'c'}, {'a', 'e'}],\n",
    "      [{'e', 'f'}, {'a', 'b'}, {'d', 'f'}, {'c'}, {'b'}],\n",
    "      [{'e', 'g'}, {'a', 'f'}, {'c'}, {'b'}, {'c'}],\n",
    "      [{'a'}, {'g', 'h'}, {'f', 'e'}, {'b', 'c', 'e'}, {'a', 'b', 'c'}]\n",
    "      ]"
   ]
  },
  {
   "cell_type": "code",
   "execution_count": 11,
   "metadata": {},
   "outputs": [],
   "source": [
    "prefix_object = prefixspan_multiple_items_one_event(dat, 2)"
   ]
  },
  {
   "cell_type": "code",
   "execution_count": 12,
   "metadata": {},
   "outputs": [],
   "source": [
    "prefix_object.exect()"
   ]
  },
  {
   "cell_type": "code",
   "execution_count": 13,
   "metadata": {
    "scrolled": true
   },
   "outputs": [
    {
     "data": {
      "text/plain": [
       "[([{'f'}], 4),\n",
       " ([{'f'}, {'a'}], 2),\n",
       " ([{'f'}, {'a', 'b'}], 2),\n",
       " ([{'f'}, {'b'}], 3),\n",
       " ([{'f'}, {'b'}, {'b'}], 2),\n",
       " ([{'f'}, {'b'}, {'c'}], 3),\n",
       " ([{'f'}, {'c'}], 3),\n",
       " ([{'f'}, {'c'}, {'b'}], 3),\n",
       " ([{'f'}, {'c'}, {'c'}], 2)]"
      ]
     },
     "execution_count": 13,
     "metadata": {},
     "output_type": "execute_result"
    }
   ],
   "source": [
    "[i for i in prefix_object.found_patterns if i[0][0]=={'f'}]"
   ]
  },
  {
   "cell_type": "markdown",
   "metadata": {},
   "source": [
    "# Large Data: event with single item executed by a function for single event"
   ]
  },
  {
   "cell_type": "code",
   "execution_count": 14,
   "metadata": {},
   "outputs": [],
   "source": [
    "with open('./BMS1_spmf.txt', 'r') as fn:\n",
    "    \n",
    "    dat = fn.readlines()"
   ]
  },
  {
   "cell_type": "code",
   "execution_count": 15,
   "metadata": {},
   "outputs": [],
   "source": [
    "dat = list(map(lambda x: re.sub('\\\\s+', ' ', re.sub('\\n|-1|-2', '', x)).strip().split(' '), dat))"
   ]
  },
  {
   "cell_type": "code",
   "execution_count": 16,
   "metadata": {},
   "outputs": [
    {
     "name": "stdout",
     "output_type": "stream",
     "text": [
      "There are 497 products...\n",
      "There are 59601 samples...\n"
     ]
    }
   ],
   "source": [
    "print('There are %d products...' % (len(set(itertools.chain(*dat)))))\n",
    "print('There are %d samples...' % (len(dat)))\n",
    "# collections.Counter(itertools.chain(*dat))"
   ]
  },
  {
   "cell_type": "code",
   "execution_count": 17,
   "metadata": {},
   "outputs": [
    {
     "data": {
      "text/plain": [
       "array([  1.,   1.,   1.,   3., 267.])"
      ]
     },
     "execution_count": 17,
     "metadata": {},
     "output_type": "execute_result"
    }
   ],
   "source": [
    "# length of sequence\n",
    "np.percentile(list(map(lambda x: len(x), dat)), [0, 25, 50, 75, 100])"
   ]
  },
  {
   "cell_type": "code",
   "execution_count": 19,
   "metadata": {},
   "outputs": [],
   "source": [
    "pre_object = prefixspan_one_item_one_event(dat, 200)"
   ]
  },
  {
   "cell_type": "code",
   "execution_count": 20,
   "metadata": {},
   "outputs": [
    {
     "name": "stdout",
     "output_type": "stream",
     "text": [
      "--- 3.6761703491210938 seconds ---\n"
     ]
    }
   ],
   "source": [
    "start_time = time.time()\n",
    "pre_object.exect()\n",
    "print(\"--- %s seconds ---\" % (time.time() - start_time))"
   ]
  },
  {
   "cell_type": "code",
   "execution_count": 21,
   "metadata": {},
   "outputs": [
    {
     "data": {
      "text/plain": [
       "[(\"['12487']\", 2268),\n",
       " (\"['12487', '12875']\", 432),\n",
       " (\"['12487', '12703']\", 631),\n",
       " (\"['12487', '12703', '12875']\", 216),\n",
       " (\"['12487', '12703', '32213']\", 315),\n",
       " (\"['12487', '12703', '34893']\", 225),\n",
       " (\"['12487', '12571']\", 247),\n",
       " (\"['12487', '12895']\", 226),\n",
       " (\"['12487', '12695']\", 256),\n",
       " (\"['12487', '12695', '12703']\", 204),\n",
       " (\"['12487', '32213']\", 506),\n",
       " (\"['12487', '34893']\", 351)]"
      ]
     },
     "execution_count": 21,
     "metadata": {},
     "output_type": "execute_result"
    }
   ],
   "source": [
    "[(i, j) for i, j in list(pre_object.found_patterns.items()) if ast.literal_eval(i)[0] == '12487']"
   ]
  },
  {
   "cell_type": "markdown",
   "metadata": {},
   "source": [
    "# Large Data: event with single item executed by a function for multip events"
   ]
  },
  {
   "cell_type": "code",
   "execution_count": 22,
   "metadata": {},
   "outputs": [],
   "source": [
    "import numpy as np\n",
    "import pandas as pd\n",
    "import itertools\n",
    "import collections\n",
    "import re\n",
    "import operator\n",
    "import os\n",
    "import ast\n",
    "import multiprefixspan\n",
    "import time"
   ]
  },
  {
   "cell_type": "code",
   "execution_count": 23,
   "metadata": {},
   "outputs": [],
   "source": [
    "with open('./BMS1_spmf.txt', 'r') as fn:\n",
    "    \n",
    "    dat = fn.readlines()"
   ]
  },
  {
   "cell_type": "code",
   "execution_count": 24,
   "metadata": {},
   "outputs": [],
   "source": [
    "dat = list(map(lambda x: re.sub('\\\\s+', ' ', re.sub('\\n|-1|-2', '', x)).strip().split(' '), dat))"
   ]
  },
  {
   "cell_type": "code",
   "execution_count": 25,
   "metadata": {},
   "outputs": [],
   "source": [
    "dat = list(map(lambda x: list(map(lambda i: set({i}), x)), dat))"
   ]
  },
  {
   "cell_type": "code",
   "execution_count": 26,
   "metadata": {},
   "outputs": [],
   "source": [
    "prefix_object = prefixspan_multiple_items_one_event(dat, 200)"
   ]
  },
  {
   "cell_type": "code",
   "execution_count": 27,
   "metadata": {},
   "outputs": [],
   "source": [
    "# import cProfile\n",
    "# cProfile.run('prefix_object.exect()')"
   ]
  },
  {
   "cell_type": "code",
   "execution_count": 28,
   "metadata": {},
   "outputs": [
    {
     "name": "stdout",
     "output_type": "stream",
     "text": [
      "--- 31.65036654472351 seconds ---\n"
     ]
    }
   ],
   "source": [
    "start_time = time.time()\n",
    "prefix_object.exect()\n",
    "print(\"--- %s seconds ---\" % (time.time() - start_time))"
   ]
  },
  {
   "cell_type": "code",
   "execution_count": 29,
   "metadata": {},
   "outputs": [
    {
     "data": {
      "text/plain": [
       "[([{'12487'}], 2268),\n",
       " ([{'12487'}, {'12571'}], 247),\n",
       " ([{'12487'}, {'12703'}], 631),\n",
       " ([{'12487'}, {'12703'}, {'12875'}], 216),\n",
       " ([{'12487'}, {'12703'}, {'32213'}], 315),\n",
       " ([{'12487'}, {'12703'}, {'34893'}], 225),\n",
       " ([{'12487'}, {'12875'}], 432),\n",
       " ([{'12487'}, {'12895'}], 226),\n",
       " ([{'12487'}, {'12695'}], 256),\n",
       " ([{'12487'}, {'12695'}, {'12703'}], 204),\n",
       " ([{'12487'}, {'32213'}], 506),\n",
       " ([{'12487'}, {'34893'}], 351)]"
      ]
     },
     "execution_count": 29,
     "metadata": {},
     "output_type": "execute_result"
    }
   ],
   "source": [
    "[(i, j) for i, j in prefix_object.found_patterns if i[0]=={'12487'}]"
   ]
  }
 ],
 "metadata": {
  "kernelspec": {
   "display_name": "Python 3",
   "language": "python",
   "name": "python3"
  },
  "language_info": {
   "codemirror_mode": {
    "name": "ipython",
    "version": 3
   },
   "file_extension": ".py",
   "mimetype": "text/x-python",
   "name": "python",
   "nbconvert_exporter": "python",
   "pygments_lexer": "ipython3",
   "version": "3.6.8"
  }
 },
 "nbformat": 4,
 "nbformat_minor": 2
}
